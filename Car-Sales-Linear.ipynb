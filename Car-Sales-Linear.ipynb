{
 "cells": [
  {
   "cell_type": "markdown",
   "id": "c59eb209",
   "metadata": {},
   "source": [
    "#### import the packages"
   ]
  },
  {
   "cell_type": "code",
   "execution_count": 202,
   "id": "4ee599de",
   "metadata": {},
   "outputs": [],
   "source": [
    "# data handling\n",
    "import numpy as np\n",
    "import pandas as pd\n",
    "import matplotlib.pyplot as plt\n",
    "import seaborn as sns\n",
    "%matplotlib inline\n",
    "\n",
    "# stats testing | hypothesis testing\n",
    "import scipy.stats as stats\n",
    "\n",
    "# statistical modelling\n",
    "import statsmodels.formula.api as smf\n",
    "\n",
    "# subpackages from sklearn for data handling, variable selection and model evaluation\n",
    "from sklearn.model_selection import train_test_split\n",
    "from sklearn.metrics import mean_squared_error, mean_absolute_error, mean_absolute_percentage_error\n",
    "\n",
    "# for modelling - stats and ML\n",
    "import sklearn\n",
    "from sklearn.linear_model import LinearRegression"
   ]
  },
  {
   "cell_type": "markdown",
   "id": "cf1663a2",
   "metadata": {},
   "source": [
    "#### import the data"
   ]
  },
  {
   "cell_type": "code",
   "execution_count": 5,
   "id": "cdb1c90f",
   "metadata": {},
   "outputs": [],
   "source": [
    "cars = pd.read_csv('car_sales.csv')"
   ]
  },
  {
   "cell_type": "markdown",
   "id": "77620a08",
   "metadata": {},
   "source": [
    "#### get the UDFs"
   ]
  },
  {
   "cell_type": "code",
   "execution_count": 6,
   "id": "a27ff105",
   "metadata": {},
   "outputs": [],
   "source": [
    "def continuous_var_summary( x ):\n",
    "    \n",
    "    # freq and missings\n",
    "    n_total = x.shape[0]\n",
    "    n_miss = x.isna().sum()\n",
    "    perc_miss = n_miss * 100 / n_total\n",
    "    \n",
    "    # outliers - iqr\n",
    "    q1 = x.quantile(0.25)\n",
    "    q3 = x.quantile(0.75)\n",
    "    iqr = q3 - q1\n",
    "    lc_iqr = q1 - 1.5 * iqr\n",
    "    uc_iqr = q3 + 1.5 * iqr\n",
    "    \n",
    "    return pd.Series( [ x.dtype, x.nunique(), n_total, x.count(), n_miss, perc_miss,\n",
    "                       x.sum(), x.mean(), x.std(), x.var(), \n",
    "                       lc_iqr, uc_iqr, \n",
    "                       x.min(), x.quantile(0.01), x.quantile(0.05), x.quantile(0.10), \n",
    "                       x.quantile(0.25), x.quantile(0.5), x.quantile(0.75), \n",
    "                       x.quantile(0.90), x.quantile(0.95), x.quantile(0.99), x.max() ], \n",
    "                     \n",
    "                    index = ['dtype', 'cardinality', 'n_tot', 'n', 'nmiss', 'perc_miss',\n",
    "                             'sum', 'mean', 'std', 'var',\n",
    "                        'lc_iqr', 'uc_iqr',\n",
    "                        'min', 'p1', 'p5', 'p10', 'p25', 'p50', 'p75', 'p90', 'p95', 'p99', 'max']) "
   ]
  },
  {
   "cell_type": "markdown",
   "id": "c6fa368e",
   "metadata": {},
   "source": [
    "#### EDA"
   ]
  },
  {
   "cell_type": "code",
   "execution_count": 7,
   "id": "c4dc52b3",
   "metadata": {},
   "outputs": [
    {
     "name": "stdout",
     "output_type": "stream",
     "text": [
      "<class 'pandas.core.frame.DataFrame'>\n",
      "RangeIndex: 157 entries, 0 to 156\n",
      "Data columns (total 16 columns):\n",
      " #   Column                  Non-Null Count  Dtype  \n",
      "---  ------                  --------------  -----  \n",
      " 0   Manufacturer            157 non-null    object \n",
      " 1   Model                   157 non-null    object \n",
      " 2   Sales_in_thousands      157 non-null    float64\n",
      " 3   four_year_resale_value  121 non-null    float64\n",
      " 4   Vehicle_type            157 non-null    object \n",
      " 5   Price_in_thousands      155 non-null    float64\n",
      " 6   Engine_size             156 non-null    float64\n",
      " 7   Horsepower              156 non-null    float64\n",
      " 8   Wheelbase               156 non-null    float64\n",
      " 9   Width                   156 non-null    float64\n",
      " 10  Length                  156 non-null    float64\n",
      " 11  Curb_weight             155 non-null    float64\n",
      " 12  Fuel_capacity           156 non-null    float64\n",
      " 13  Fuel_efficiency         154 non-null    float64\n",
      " 14  Latest_Launch           157 non-null    object \n",
      " 15  Power_perf_factor       155 non-null    float64\n",
      "dtypes: float64(12), object(4)\n",
      "memory usage: 19.8+ KB\n"
     ]
    }
   ],
   "source": [
    "cars.info()"
   ]
  },
  {
   "cell_type": "markdown",
   "id": "8c5fb07c",
   "metadata": {},
   "source": [
    "##### get the object type and numeric variables as separate datasets"
   ]
  },
  {
   "cell_type": "code",
   "execution_count": 8,
   "id": "68339291",
   "metadata": {},
   "outputs": [],
   "source": [
    "# new datasets, will consume extra memory\n",
    "cars_object = cars.select_dtypes('object')\n",
    "cars_numeric = cars.select_dtypes('float64')\n",
    "\n",
    "# OR \n",
    "\n",
    "# variables with the object type and numeric type\n",
    "cars_object_variable = cars.select_dtypes('object').columns\n",
    "cars_numeric_variables = cars.select_dtypes('float64').columns\n",
    "# cars[cars_object_variable]\n",
    "# cars[cars_numeric_variables]"
   ]
  },
  {
   "cell_type": "markdown",
   "id": "7bd8fcd8",
   "metadata": {},
   "source": [
    "##### get the numeric data summary"
   ]
  },
  {
   "cell_type": "code",
   "execution_count": 9,
   "id": "01081b19",
   "metadata": {},
   "outputs": [
    {
     "data": {
      "text/html": [
       "<div>\n",
       "<style scoped>\n",
       "    .dataframe tbody tr th:only-of-type {\n",
       "        vertical-align: middle;\n",
       "    }\n",
       "\n",
       "    .dataframe tbody tr th {\n",
       "        vertical-align: top;\n",
       "    }\n",
       "\n",
       "    .dataframe thead th {\n",
       "        text-align: right;\n",
       "    }\n",
       "</style>\n",
       "<table border=\"1\" class=\"dataframe\">\n",
       "  <thead>\n",
       "    <tr style=\"text-align: right;\">\n",
       "      <th></th>\n",
       "      <th>Sales_in_thousands</th>\n",
       "      <th>four_year_resale_value</th>\n",
       "      <th>Price_in_thousands</th>\n",
       "      <th>Engine_size</th>\n",
       "      <th>Horsepower</th>\n",
       "      <th>Wheelbase</th>\n",
       "      <th>Width</th>\n",
       "      <th>Length</th>\n",
       "      <th>Curb_weight</th>\n",
       "      <th>Fuel_capacity</th>\n",
       "      <th>Fuel_efficiency</th>\n",
       "      <th>Power_perf_factor</th>\n",
       "    </tr>\n",
       "  </thead>\n",
       "  <tbody>\n",
       "    <tr>\n",
       "      <th>dtype</th>\n",
       "      <td>float64</td>\n",
       "      <td>float64</td>\n",
       "      <td>float64</td>\n",
       "      <td>float64</td>\n",
       "      <td>float64</td>\n",
       "      <td>float64</td>\n",
       "      <td>float64</td>\n",
       "      <td>float64</td>\n",
       "      <td>float64</td>\n",
       "      <td>float64</td>\n",
       "      <td>float64</td>\n",
       "      <td>float64</td>\n",
       "    </tr>\n",
       "    <tr>\n",
       "      <th>cardinality</th>\n",
       "      <td>157</td>\n",
       "      <td>117</td>\n",
       "      <td>152</td>\n",
       "      <td>31</td>\n",
       "      <td>66</td>\n",
       "      <td>88</td>\n",
       "      <td>78</td>\n",
       "      <td>127</td>\n",
       "      <td>147</td>\n",
       "      <td>55</td>\n",
       "      <td>20</td>\n",
       "      <td>154</td>\n",
       "    </tr>\n",
       "    <tr>\n",
       "      <th>n_tot</th>\n",
       "      <td>157</td>\n",
       "      <td>157</td>\n",
       "      <td>157</td>\n",
       "      <td>157</td>\n",
       "      <td>157</td>\n",
       "      <td>157</td>\n",
       "      <td>157</td>\n",
       "      <td>157</td>\n",
       "      <td>157</td>\n",
       "      <td>157</td>\n",
       "      <td>157</td>\n",
       "      <td>157</td>\n",
       "    </tr>\n",
       "    <tr>\n",
       "      <th>n</th>\n",
       "      <td>157</td>\n",
       "      <td>121</td>\n",
       "      <td>155</td>\n",
       "      <td>156</td>\n",
       "      <td>156</td>\n",
       "      <td>156</td>\n",
       "      <td>156</td>\n",
       "      <td>156</td>\n",
       "      <td>155</td>\n",
       "      <td>156</td>\n",
       "      <td>154</td>\n",
       "      <td>155</td>\n",
       "    </tr>\n",
       "    <tr>\n",
       "      <th>nmiss</th>\n",
       "      <td>0</td>\n",
       "      <td>36</td>\n",
       "      <td>2</td>\n",
       "      <td>1</td>\n",
       "      <td>1</td>\n",
       "      <td>1</td>\n",
       "      <td>1</td>\n",
       "      <td>1</td>\n",
       "      <td>2</td>\n",
       "      <td>1</td>\n",
       "      <td>3</td>\n",
       "      <td>2</td>\n",
       "    </tr>\n",
       "    <tr>\n",
       "      <th>perc_miss</th>\n",
       "      <td>0.0</td>\n",
       "      <td>22.929936</td>\n",
       "      <td>1.273885</td>\n",
       "      <td>0.636943</td>\n",
       "      <td>0.636943</td>\n",
       "      <td>0.636943</td>\n",
       "      <td>0.636943</td>\n",
       "      <td>0.636943</td>\n",
       "      <td>1.273885</td>\n",
       "      <td>0.636943</td>\n",
       "      <td>1.910828</td>\n",
       "      <td>1.273885</td>\n",
       "    </tr>\n",
       "    <tr>\n",
       "      <th>sum</th>\n",
       "      <td>8320.698</td>\n",
       "      <td>2186.83</td>\n",
       "      <td>4245.567</td>\n",
       "      <td>477.5</td>\n",
       "      <td>29008.0</td>\n",
       "      <td>16768.0</td>\n",
       "      <td>11099.4</td>\n",
       "      <td>29225.6</td>\n",
       "      <td>523.594</td>\n",
       "      <td>2800.5</td>\n",
       "      <td>3672.0</td>\n",
       "      <td>11941.756636</td>\n",
       "    </tr>\n",
       "    <tr>\n",
       "      <th>mean</th>\n",
       "      <td>52.998076</td>\n",
       "      <td>18.072975</td>\n",
       "      <td>27.390755</td>\n",
       "      <td>3.060897</td>\n",
       "      <td>185.948718</td>\n",
       "      <td>107.487179</td>\n",
       "      <td>71.15</td>\n",
       "      <td>187.34359</td>\n",
       "      <td>3.378026</td>\n",
       "      <td>17.951923</td>\n",
       "      <td>23.844156</td>\n",
       "      <td>77.043591</td>\n",
       "    </tr>\n",
       "    <tr>\n",
       "      <th>std</th>\n",
       "      <td>68.029422</td>\n",
       "      <td>11.453384</td>\n",
       "      <td>14.351653</td>\n",
       "      <td>1.044653</td>\n",
       "      <td>56.700321</td>\n",
       "      <td>7.641303</td>\n",
       "      <td>3.451872</td>\n",
       "      <td>13.431754</td>\n",
       "      <td>0.630502</td>\n",
       "      <td>3.887921</td>\n",
       "      <td>4.282706</td>\n",
       "      <td>25.142664</td>\n",
       "    </tr>\n",
       "    <tr>\n",
       "      <th>var</th>\n",
       "      <td>4628.002257</td>\n",
       "      <td>131.180007</td>\n",
       "      <td>205.969949</td>\n",
       "      <td>1.0913</td>\n",
       "      <td>3214.926385</td>\n",
       "      <td>58.389512</td>\n",
       "      <td>11.915419</td>\n",
       "      <td>180.412023</td>\n",
       "      <td>0.397532</td>\n",
       "      <td>15.115932</td>\n",
       "      <td>18.341567</td>\n",
       "      <td>632.153558</td>\n",
       "    </tr>\n",
       "    <tr>\n",
       "      <th>lc_iqr</th>\n",
       "      <td>-66.649</td>\n",
       "      <td>-1.6625</td>\n",
       "      <td>-2.8775</td>\n",
       "      <td>0.3875</td>\n",
       "      <td>51.25</td>\n",
       "      <td>89.2</td>\n",
       "      <td>60.8625</td>\n",
       "      <td>149.75</td>\n",
       "      <td>1.72825</td>\n",
       "      <td>10.1375</td>\n",
       "      <td>13.5</td>\n",
       "      <td>16.896951</td>\n",
       "    </tr>\n",
       "    <tr>\n",
       "      <th>uc_iqr</th>\n",
       "      <td>148.719</td>\n",
       "      <td>32.7975</td>\n",
       "      <td>52.8425</td>\n",
       "      <td>5.4875</td>\n",
       "      <td>313.25</td>\n",
       "      <td>126.0</td>\n",
       "      <td>80.9625</td>\n",
       "      <td>223.95</td>\n",
       "      <td>5.04225</td>\n",
       "      <td>25.2375</td>\n",
       "      <td>33.5</td>\n",
       "      <td>132.925634</td>\n",
       "    </tr>\n",
       "    <tr>\n",
       "      <th>min</th>\n",
       "      <td>0.11</td>\n",
       "      <td>5.16</td>\n",
       "      <td>9.235</td>\n",
       "      <td>1.0</td>\n",
       "      <td>55.0</td>\n",
       "      <td>92.6</td>\n",
       "      <td>62.6</td>\n",
       "      <td>149.4</td>\n",
       "      <td>1.895</td>\n",
       "      <td>10.3</td>\n",
       "      <td>15.0</td>\n",
       "      <td>23.276272</td>\n",
       "    </tr>\n",
       "    <tr>\n",
       "      <th>p1</th>\n",
       "      <td>0.93728</td>\n",
       "      <td>6.173</td>\n",
       "      <td>10.23144</td>\n",
       "      <td>1.555</td>\n",
       "      <td>96.4</td>\n",
       "      <td>92.875</td>\n",
       "      <td>66.085</td>\n",
       "      <td>154.915</td>\n",
       "      <td>2.2454</td>\n",
       "      <td>11.9</td>\n",
       "      <td>15.0</td>\n",
       "      <td>38.46192</td>\n",
       "    </tr>\n",
       "    <tr>\n",
       "      <th>p5</th>\n",
       "      <td>1.8708</td>\n",
       "      <td>7.85</td>\n",
       "      <td>12.469</td>\n",
       "      <td>1.8</td>\n",
       "      <td>114.5</td>\n",
       "      <td>95.875</td>\n",
       "      <td>66.5</td>\n",
       "      <td>163.675</td>\n",
       "      <td>2.4235</td>\n",
       "      <td>12.5</td>\n",
       "      <td>16.65</td>\n",
       "      <td>46.203997</td>\n",
       "    </tr>\n",
       "    <tr>\n",
       "      <th>p10</th>\n",
       "      <td>5.4536</td>\n",
       "      <td>9.125</td>\n",
       "      <td>13.9708</td>\n",
       "      <td>1.95</td>\n",
       "      <td>120.0</td>\n",
       "      <td>98.65</td>\n",
       "      <td>66.9</td>\n",
       "      <td>173.0</td>\n",
       "      <td>2.6062</td>\n",
       "      <td>13.2</td>\n",
       "      <td>18.3</td>\n",
       "      <td>48.447741</td>\n",
       "    </tr>\n",
       "    <tr>\n",
       "      <th>p25</th>\n",
       "      <td>14.114</td>\n",
       "      <td>11.26</td>\n",
       "      <td>18.0175</td>\n",
       "      <td>2.3</td>\n",
       "      <td>149.5</td>\n",
       "      <td>103.0</td>\n",
       "      <td>68.4</td>\n",
       "      <td>177.575</td>\n",
       "      <td>2.971</td>\n",
       "      <td>15.8</td>\n",
       "      <td>21.0</td>\n",
       "      <td>60.407707</td>\n",
       "    </tr>\n",
       "    <tr>\n",
       "      <th>p50</th>\n",
       "      <td>29.45</td>\n",
       "      <td>14.18</td>\n",
       "      <td>22.799</td>\n",
       "      <td>3.0</td>\n",
       "      <td>177.5</td>\n",
       "      <td>107.0</td>\n",
       "      <td>70.55</td>\n",
       "      <td>187.9</td>\n",
       "      <td>3.342</td>\n",
       "      <td>17.2</td>\n",
       "      <td>24.0</td>\n",
       "      <td>72.030917</td>\n",
       "    </tr>\n",
       "    <tr>\n",
       "      <th>p75</th>\n",
       "      <td>67.956</td>\n",
       "      <td>19.875</td>\n",
       "      <td>31.9475</td>\n",
       "      <td>3.575</td>\n",
       "      <td>215.0</td>\n",
       "      <td>112.2</td>\n",
       "      <td>73.425</td>\n",
       "      <td>196.125</td>\n",
       "      <td>3.7995</td>\n",
       "      <td>19.575</td>\n",
       "      <td>26.0</td>\n",
       "      <td>89.414878</td>\n",
       "    </tr>\n",
       "    <tr>\n",
       "      <th>p90</th>\n",
       "      <td>127.6416</td>\n",
       "      <td>32.075</td>\n",
       "      <td>44.017</td>\n",
       "      <td>4.6</td>\n",
       "      <td>254.0</td>\n",
       "      <td>115.5</td>\n",
       "      <td>76.2</td>\n",
       "      <td>203.4</td>\n",
       "      <td>4.1186</td>\n",
       "      <td>23.2</td>\n",
       "      <td>28.7</td>\n",
       "      <td>108.499252</td>\n",
       "    </tr>\n",
       "    <tr>\n",
       "      <th>p95</th>\n",
       "      <td>185.3362</td>\n",
       "      <td>41.25</td>\n",
       "      <td>55.835</td>\n",
       "      <td>4.775</td>\n",
       "      <td>300.0</td>\n",
       "      <td>119.25</td>\n",
       "      <td>78.2</td>\n",
       "      <td>208.5</td>\n",
       "      <td>4.3891</td>\n",
       "      <td>25.4</td>\n",
       "      <td>31.0</td>\n",
       "      <td>125.091513</td>\n",
       "    </tr>\n",
       "    <tr>\n",
       "      <th>p99</th>\n",
       "      <td>260.64532</td>\n",
       "      <td>60.22</td>\n",
       "      <td>78.4798</td>\n",
       "      <td>5.7</td>\n",
       "      <td>325.75</td>\n",
       "      <td>134.375</td>\n",
       "      <td>79.19</td>\n",
       "      <td>219.305</td>\n",
       "      <td>5.39668</td>\n",
       "      <td>30.9</td>\n",
       "      <td>33.0</td>\n",
       "      <td>141.119461</td>\n",
       "    </tr>\n",
       "    <tr>\n",
       "      <th>max</th>\n",
       "      <td>540.561</td>\n",
       "      <td>67.55</td>\n",
       "      <td>85.5</td>\n",
       "      <td>8.0</td>\n",
       "      <td>450.0</td>\n",
       "      <td>138.7</td>\n",
       "      <td>79.9</td>\n",
       "      <td>224.5</td>\n",
       "      <td>5.572</td>\n",
       "      <td>32.0</td>\n",
       "      <td>45.0</td>\n",
       "      <td>188.144323</td>\n",
       "    </tr>\n",
       "  </tbody>\n",
       "</table>\n",
       "</div>"
      ],
      "text/plain": [
       "            Sales_in_thousands four_year_resale_value Price_in_thousands  \\\n",
       "dtype                  float64                float64            float64   \n",
       "cardinality                157                    117                152   \n",
       "n_tot                      157                    157                157   \n",
       "n                          157                    121                155   \n",
       "nmiss                        0                     36                  2   \n",
       "perc_miss                  0.0              22.929936           1.273885   \n",
       "sum                   8320.698                2186.83           4245.567   \n",
       "mean                 52.998076              18.072975          27.390755   \n",
       "std                  68.029422              11.453384          14.351653   \n",
       "var                4628.002257             131.180007         205.969949   \n",
       "lc_iqr                 -66.649                -1.6625            -2.8775   \n",
       "uc_iqr                 148.719                32.7975            52.8425   \n",
       "min                       0.11                   5.16              9.235   \n",
       "p1                     0.93728                  6.173           10.23144   \n",
       "p5                      1.8708                   7.85             12.469   \n",
       "p10                     5.4536                  9.125            13.9708   \n",
       "p25                     14.114                  11.26            18.0175   \n",
       "p50                      29.45                  14.18             22.799   \n",
       "p75                     67.956                 19.875            31.9475   \n",
       "p90                   127.6416                 32.075             44.017   \n",
       "p95                   185.3362                  41.25             55.835   \n",
       "p99                  260.64532                  60.22            78.4798   \n",
       "max                    540.561                  67.55               85.5   \n",
       "\n",
       "            Engine_size   Horsepower   Wheelbase      Width      Length  \\\n",
       "dtype           float64      float64     float64    float64     float64   \n",
       "cardinality          31           66          88         78         127   \n",
       "n_tot               157          157         157        157         157   \n",
       "n                   156          156         156        156         156   \n",
       "nmiss                 1            1           1          1           1   \n",
       "perc_miss      0.636943     0.636943    0.636943   0.636943    0.636943   \n",
       "sum               477.5      29008.0     16768.0    11099.4     29225.6   \n",
       "mean           3.060897   185.948718  107.487179      71.15   187.34359   \n",
       "std            1.044653    56.700321    7.641303   3.451872   13.431754   \n",
       "var              1.0913  3214.926385   58.389512  11.915419  180.412023   \n",
       "lc_iqr           0.3875        51.25        89.2    60.8625      149.75   \n",
       "uc_iqr           5.4875       313.25       126.0    80.9625      223.95   \n",
       "min                 1.0         55.0        92.6       62.6       149.4   \n",
       "p1                1.555         96.4      92.875     66.085     154.915   \n",
       "p5                  1.8        114.5      95.875       66.5     163.675   \n",
       "p10                1.95        120.0       98.65       66.9       173.0   \n",
       "p25                 2.3        149.5       103.0       68.4     177.575   \n",
       "p50                 3.0        177.5       107.0      70.55       187.9   \n",
       "p75               3.575        215.0       112.2     73.425     196.125   \n",
       "p90                 4.6        254.0       115.5       76.2       203.4   \n",
       "p95               4.775        300.0      119.25       78.2       208.5   \n",
       "p99                 5.7       325.75     134.375      79.19     219.305   \n",
       "max                 8.0        450.0       138.7       79.9       224.5   \n",
       "\n",
       "            Curb_weight Fuel_capacity Fuel_efficiency Power_perf_factor  \n",
       "dtype           float64       float64         float64           float64  \n",
       "cardinality         147            55              20               154  \n",
       "n_tot               157           157             157               157  \n",
       "n                   155           156             154               155  \n",
       "nmiss                 2             1               3                 2  \n",
       "perc_miss      1.273885      0.636943        1.910828          1.273885  \n",
       "sum             523.594        2800.5          3672.0      11941.756636  \n",
       "mean           3.378026     17.951923       23.844156         77.043591  \n",
       "std            0.630502      3.887921        4.282706         25.142664  \n",
       "var            0.397532     15.115932       18.341567        632.153558  \n",
       "lc_iqr          1.72825       10.1375            13.5         16.896951  \n",
       "uc_iqr          5.04225       25.2375            33.5        132.925634  \n",
       "min               1.895          10.3            15.0         23.276272  \n",
       "p1               2.2454          11.9            15.0          38.46192  \n",
       "p5               2.4235          12.5           16.65         46.203997  \n",
       "p10              2.6062          13.2            18.3         48.447741  \n",
       "p25               2.971          15.8            21.0         60.407707  \n",
       "p50               3.342          17.2            24.0         72.030917  \n",
       "p75              3.7995        19.575            26.0         89.414878  \n",
       "p90              4.1186          23.2            28.7        108.499252  \n",
       "p95              4.3891          25.4            31.0        125.091513  \n",
       "p99             5.39668          30.9            33.0        141.119461  \n",
       "max               5.572          32.0            45.0        188.144323  "
      ]
     },
     "execution_count": 9,
     "metadata": {},
     "output_type": "execute_result"
    }
   ],
   "source": [
    "cars_numeric.apply( continuous_var_summary )\n",
    "# cars_numeric.apply( continuous_var_summary ).to_excel('C:/Users/HP/Desktop/DSP - June 22/3. Advance Analytics/summary.xlsx')"
   ]
  },
  {
   "cell_type": "code",
   "execution_count": 10,
   "id": "d8b2a256",
   "metadata": {},
   "outputs": [
    {
     "data": {
      "text/html": [
       "<div>\n",
       "<style scoped>\n",
       "    .dataframe tbody tr th:only-of-type {\n",
       "        vertical-align: middle;\n",
       "    }\n",
       "\n",
       "    .dataframe tbody tr th {\n",
       "        vertical-align: top;\n",
       "    }\n",
       "\n",
       "    .dataframe thead th {\n",
       "        text-align: right;\n",
       "    }\n",
       "</style>\n",
       "<table border=\"1\" class=\"dataframe\">\n",
       "  <thead>\n",
       "    <tr style=\"text-align: right;\">\n",
       "      <th></th>\n",
       "      <th>Manufacturer</th>\n",
       "      <th>Model</th>\n",
       "      <th>Vehicle_type</th>\n",
       "      <th>Latest_Launch</th>\n",
       "    </tr>\n",
       "  </thead>\n",
       "  <tbody>\n",
       "    <tr>\n",
       "      <th>count</th>\n",
       "      <td>157</td>\n",
       "      <td>157</td>\n",
       "      <td>157</td>\n",
       "      <td>157</td>\n",
       "    </tr>\n",
       "    <tr>\n",
       "      <th>unique</th>\n",
       "      <td>30</td>\n",
       "      <td>156</td>\n",
       "      <td>2</td>\n",
       "      <td>130</td>\n",
       "    </tr>\n",
       "    <tr>\n",
       "      <th>top</th>\n",
       "      <td>Dodge</td>\n",
       "      <td>Neon</td>\n",
       "      <td>Passenger</td>\n",
       "      <td>10/5/2012</td>\n",
       "    </tr>\n",
       "    <tr>\n",
       "      <th>freq</th>\n",
       "      <td>11</td>\n",
       "      <td>2</td>\n",
       "      <td>116</td>\n",
       "      <td>2</td>\n",
       "    </tr>\n",
       "  </tbody>\n",
       "</table>\n",
       "</div>"
      ],
      "text/plain": [
       "       Manufacturer Model Vehicle_type Latest_Launch\n",
       "count           157   157          157           157\n",
       "unique           30   156            2           130\n",
       "top           Dodge  Neon    Passenger     10/5/2012\n",
       "freq             11     2          116             2"
      ]
     },
     "execution_count": 10,
     "metadata": {},
     "output_type": "execute_result"
    }
   ],
   "source": [
    "cars_object.describe()"
   ]
  },
  {
   "cell_type": "markdown",
   "id": "6744f56e",
   "metadata": {},
   "source": [
    "##### get the following inferrences"
   ]
  },
  {
   "cell_type": "markdown",
   "id": "82429f04",
   "metadata": {},
   "source": [
    "1. categorical vs continuous variables\n",
    "\n",
    "2. look for the outliers \n",
    "\n",
    "3. missings\n",
    "\n",
    "4. date or time data\n",
    "\n",
    "5. duplicates"
   ]
  },
  {
   "cell_type": "markdown",
   "id": "bac86aab",
   "metadata": {},
   "source": [
    "##### outlier treatments"
   ]
  },
  {
   "cell_type": "code",
   "execution_count": 11,
   "id": "bdd65775",
   "metadata": {},
   "outputs": [],
   "source": [
    "cars_numeric = cars_numeric.apply( lambda x: x.clip( lower = x.quantile(0.01), \n",
    "                                                                upper = x.quantile(0.99) ) )"
   ]
  },
  {
   "cell_type": "markdown",
   "id": "ca65c11e",
   "metadata": {},
   "source": [
    "##### missing value imputaion"
   ]
  },
  {
   "cell_type": "code",
   "execution_count": 12,
   "id": "9a921456",
   "metadata": {},
   "outputs": [],
   "source": [
    "cars_numeric = cars_numeric.apply( lambda x: x.fillna( x.mean() ))"
   ]
  },
  {
   "cell_type": "markdown",
   "id": "82c1b3df",
   "metadata": {},
   "source": [
    "##### summary of the continuous (numeric) data"
   ]
  },
  {
   "cell_type": "code",
   "execution_count": 13,
   "id": "a17fa85f",
   "metadata": {
    "scrolled": true
   },
   "outputs": [
    {
     "data": {
      "text/html": [
       "<div>\n",
       "<style scoped>\n",
       "    .dataframe tbody tr th:only-of-type {\n",
       "        vertical-align: middle;\n",
       "    }\n",
       "\n",
       "    .dataframe tbody tr th {\n",
       "        vertical-align: top;\n",
       "    }\n",
       "\n",
       "    .dataframe thead th {\n",
       "        text-align: right;\n",
       "    }\n",
       "</style>\n",
       "<table border=\"1\" class=\"dataframe\">\n",
       "  <thead>\n",
       "    <tr style=\"text-align: right;\">\n",
       "      <th></th>\n",
       "      <th>Sales_in_thousands</th>\n",
       "      <th>four_year_resale_value</th>\n",
       "      <th>Price_in_thousands</th>\n",
       "      <th>Engine_size</th>\n",
       "      <th>Horsepower</th>\n",
       "      <th>Wheelbase</th>\n",
       "      <th>Width</th>\n",
       "      <th>Length</th>\n",
       "      <th>Curb_weight</th>\n",
       "      <th>Fuel_capacity</th>\n",
       "      <th>Fuel_efficiency</th>\n",
       "      <th>Power_perf_factor</th>\n",
       "    </tr>\n",
       "  </thead>\n",
       "  <tbody>\n",
       "    <tr>\n",
       "      <th>dtype</th>\n",
       "      <td>float64</td>\n",
       "      <td>float64</td>\n",
       "      <td>float64</td>\n",
       "      <td>float64</td>\n",
       "      <td>float64</td>\n",
       "      <td>float64</td>\n",
       "      <td>float64</td>\n",
       "      <td>float64</td>\n",
       "      <td>float64</td>\n",
       "      <td>float64</td>\n",
       "      <td>float64</td>\n",
       "      <td>float64</td>\n",
       "    </tr>\n",
       "    <tr>\n",
       "      <th>cardinality</th>\n",
       "      <td>155</td>\n",
       "      <td>116</td>\n",
       "      <td>151</td>\n",
       "      <td>30</td>\n",
       "      <td>65</td>\n",
       "      <td>88</td>\n",
       "      <td>77</td>\n",
       "      <td>126</td>\n",
       "      <td>146</td>\n",
       "      <td>55</td>\n",
       "      <td>20</td>\n",
       "      <td>153</td>\n",
       "    </tr>\n",
       "    <tr>\n",
       "      <th>n_tot</th>\n",
       "      <td>157</td>\n",
       "      <td>157</td>\n",
       "      <td>157</td>\n",
       "      <td>157</td>\n",
       "      <td>157</td>\n",
       "      <td>157</td>\n",
       "      <td>157</td>\n",
       "      <td>157</td>\n",
       "      <td>157</td>\n",
       "      <td>157</td>\n",
       "      <td>157</td>\n",
       "      <td>157</td>\n",
       "    </tr>\n",
       "    <tr>\n",
       "      <th>n</th>\n",
       "      <td>157</td>\n",
       "      <td>157</td>\n",
       "      <td>157</td>\n",
       "      <td>157</td>\n",
       "      <td>157</td>\n",
       "      <td>157</td>\n",
       "      <td>157</td>\n",
       "      <td>157</td>\n",
       "      <td>157</td>\n",
       "      <td>157</td>\n",
       "      <td>157</td>\n",
       "      <td>157</td>\n",
       "    </tr>\n",
       "    <tr>\n",
       "      <th>nmiss</th>\n",
       "      <td>0</td>\n",
       "      <td>0</td>\n",
       "      <td>0</td>\n",
       "      <td>0</td>\n",
       "      <td>0</td>\n",
       "      <td>0</td>\n",
       "      <td>0</td>\n",
       "      <td>0</td>\n",
       "      <td>0</td>\n",
       "      <td>0</td>\n",
       "      <td>0</td>\n",
       "      <td>0</td>\n",
       "    </tr>\n",
       "    <tr>\n",
       "      <th>perc_miss</th>\n",
       "      <td>0.0</td>\n",
       "      <td>0.0</td>\n",
       "      <td>0.0</td>\n",
       "      <td>0.0</td>\n",
       "      <td>0.0</td>\n",
       "      <td>0.0</td>\n",
       "      <td>0.0</td>\n",
       "      <td>0.0</td>\n",
       "      <td>0.0</td>\n",
       "      <td>0.0</td>\n",
       "      <td>0.0</td>\n",
       "      <td>0.0</td>\n",
       "    </tr>\n",
       "    <tr>\n",
       "      <th>sum</th>\n",
       "      <td>8025.5292</td>\n",
       "      <td>2829.141298</td>\n",
       "      <td>4290.61297</td>\n",
       "      <td>478.860064</td>\n",
       "      <td>29095.622436</td>\n",
       "      <td>16867.536538</td>\n",
       "      <td>11173.619551</td>\n",
       "      <td>29411.272949</td>\n",
       "      <td>530.528485</td>\n",
       "      <td>2817.848077</td>\n",
       "      <td>3731.298701</td>\n",
       "      <td>12065.384534</td>\n",
       "    </tr>\n",
       "    <tr>\n",
       "      <th>mean</th>\n",
       "      <td>51.11802</td>\n",
       "      <td>18.020008</td>\n",
       "      <td>27.328745</td>\n",
       "      <td>3.050064</td>\n",
       "      <td>185.322436</td>\n",
       "      <td>107.436538</td>\n",
       "      <td>71.169551</td>\n",
       "      <td>187.332949</td>\n",
       "      <td>3.379162</td>\n",
       "      <td>17.948077</td>\n",
       "      <td>23.766234</td>\n",
       "      <td>76.849583</td>\n",
       "    </tr>\n",
       "    <tr>\n",
       "      <th>std</th>\n",
       "      <td>57.722699</td>\n",
       "      <td>9.80668</td>\n",
       "      <td>13.973525</td>\n",
       "      <td>0.979125</td>\n",
       "      <td>52.646914</td>\n",
       "      <td>7.400461</td>\n",
       "      <td>3.379455</td>\n",
       "      <td>13.07823</td>\n",
       "      <td>0.617766</td>\n",
       "      <td>3.807591</td>\n",
       "      <td>3.956157</td>\n",
       "      <td>23.691622</td>\n",
       "    </tr>\n",
       "    <tr>\n",
       "      <th>var</th>\n",
       "      <td>3331.909938</td>\n",
       "      <td>96.170969</td>\n",
       "      <td>195.259402</td>\n",
       "      <td>0.958686</td>\n",
       "      <td>2771.697606</td>\n",
       "      <td>54.766822</td>\n",
       "      <td>11.420718</td>\n",
       "      <td>171.04011</td>\n",
       "      <td>0.381634</td>\n",
       "      <td>14.497753</td>\n",
       "      <td>15.651182</td>\n",
       "      <td>561.292961</td>\n",
       "    </tr>\n",
       "    <tr>\n",
       "      <th>lc_iqr</th>\n",
       "      <td>-66.649</td>\n",
       "      <td>4.1525</td>\n",
       "      <td>-2.5325</td>\n",
       "      <td>0.5</td>\n",
       "      <td>52.5</td>\n",
       "      <td>89.2</td>\n",
       "      <td>60.9</td>\n",
       "      <td>149.85</td>\n",
       "      <td>1.7705</td>\n",
       "      <td>10.25</td>\n",
       "      <td>13.5</td>\n",
       "      <td>17.715715</td>\n",
       "    </tr>\n",
       "    <tr>\n",
       "      <th>uc_iqr</th>\n",
       "      <td>148.719</td>\n",
       "      <td>26.5325</td>\n",
       "      <td>52.6075</td>\n",
       "      <td>5.3</td>\n",
       "      <td>312.5</td>\n",
       "      <td>126.0</td>\n",
       "      <td>80.9</td>\n",
       "      <td>223.85</td>\n",
       "      <td>4.9825</td>\n",
       "      <td>25.05</td>\n",
       "      <td>33.5</td>\n",
       "      <td>132.413666</td>\n",
       "    </tr>\n",
       "    <tr>\n",
       "      <th>min</th>\n",
       "      <td>0.93728</td>\n",
       "      <td>6.173</td>\n",
       "      <td>10.23144</td>\n",
       "      <td>1.555</td>\n",
       "      <td>96.4</td>\n",
       "      <td>92.875</td>\n",
       "      <td>66.085</td>\n",
       "      <td>154.915</td>\n",
       "      <td>2.2454</td>\n",
       "      <td>11.9</td>\n",
       "      <td>15.0</td>\n",
       "      <td>38.46192</td>\n",
       "    </tr>\n",
       "    <tr>\n",
       "      <th>p1</th>\n",
       "      <td>0.946643</td>\n",
       "      <td>6.87412</td>\n",
       "      <td>10.485434</td>\n",
       "      <td>1.5802</td>\n",
       "      <td>98.416</td>\n",
       "      <td>93.001</td>\n",
       "      <td>66.2614</td>\n",
       "      <td>156.2506</td>\n",
       "      <td>2.247976</td>\n",
       "      <td>11.9</td>\n",
       "      <td>15.0</td>\n",
       "      <td>39.315643</td>\n",
       "    </tr>\n",
       "    <tr>\n",
       "      <th>p5</th>\n",
       "      <td>1.8708</td>\n",
       "      <td>8.425</td>\n",
       "      <td>12.491</td>\n",
       "      <td>1.8</td>\n",
       "      <td>114.6</td>\n",
       "      <td>95.92</td>\n",
       "      <td>66.5</td>\n",
       "      <td>163.7</td>\n",
       "      <td>2.424</td>\n",
       "      <td>12.5</td>\n",
       "      <td>16.8</td>\n",
       "      <td>46.257114</td>\n",
       "    </tr>\n",
       "    <tr>\n",
       "      <th>p10</th>\n",
       "      <td>5.4536</td>\n",
       "      <td>9.71</td>\n",
       "      <td>13.9762</td>\n",
       "      <td>1.96</td>\n",
       "      <td>120.0</td>\n",
       "      <td>98.7</td>\n",
       "      <td>66.9</td>\n",
       "      <td>173.12</td>\n",
       "      <td>2.6128</td>\n",
       "      <td>13.2</td>\n",
       "      <td>18.6</td>\n",
       "      <td>48.522793</td>\n",
       "    </tr>\n",
       "    <tr>\n",
       "      <th>p25</th>\n",
       "      <td>14.114</td>\n",
       "      <td>12.545</td>\n",
       "      <td>18.145</td>\n",
       "      <td>2.3</td>\n",
       "      <td>150.0</td>\n",
       "      <td>103.0</td>\n",
       "      <td>68.4</td>\n",
       "      <td>177.6</td>\n",
       "      <td>2.975</td>\n",
       "      <td>15.8</td>\n",
       "      <td>21.0</td>\n",
       "      <td>60.727447</td>\n",
       "    </tr>\n",
       "    <tr>\n",
       "      <th>p50</th>\n",
       "      <td>29.45</td>\n",
       "      <td>17.71</td>\n",
       "      <td>23.4</td>\n",
       "      <td>3.0</td>\n",
       "      <td>180.0</td>\n",
       "      <td>107.0</td>\n",
       "      <td>70.6</td>\n",
       "      <td>187.8</td>\n",
       "      <td>3.368</td>\n",
       "      <td>17.2</td>\n",
       "      <td>24.0</td>\n",
       "      <td>72.290355</td>\n",
       "    </tr>\n",
       "    <tr>\n",
       "      <th>p75</th>\n",
       "      <td>67.956</td>\n",
       "      <td>18.14</td>\n",
       "      <td>31.93</td>\n",
       "      <td>3.5</td>\n",
       "      <td>215.0</td>\n",
       "      <td>112.2</td>\n",
       "      <td>73.4</td>\n",
       "      <td>196.1</td>\n",
       "      <td>3.778</td>\n",
       "      <td>19.5</td>\n",
       "      <td>26.0</td>\n",
       "      <td>89.401935</td>\n",
       "    </tr>\n",
       "    <tr>\n",
       "      <th>p90</th>\n",
       "      <td>127.6416</td>\n",
       "      <td>27.025</td>\n",
       "      <td>43.788</td>\n",
       "      <td>4.6</td>\n",
       "      <td>253.8</td>\n",
       "      <td>115.46</td>\n",
       "      <td>76.18</td>\n",
       "      <td>203.34</td>\n",
       "      <td>4.1174</td>\n",
       "      <td>23.2</td>\n",
       "      <td>28.4</td>\n",
       "      <td>107.99432</td>\n",
       "    </tr>\n",
       "    <tr>\n",
       "      <th>p95</th>\n",
       "      <td>185.3362</td>\n",
       "      <td>39.275</td>\n",
       "      <td>55.225</td>\n",
       "      <td>4.76</td>\n",
       "      <td>300.0</td>\n",
       "      <td>119.2</td>\n",
       "      <td>78.2</td>\n",
       "      <td>208.5</td>\n",
       "      <td>4.3884</td>\n",
       "      <td>25.4</td>\n",
       "      <td>31.0</td>\n",
       "      <td>125.065461</td>\n",
       "    </tr>\n",
       "    <tr>\n",
       "      <th>p99</th>\n",
       "      <td>253.560581</td>\n",
       "      <td>59.3128</td>\n",
       "      <td>76.514312</td>\n",
       "      <td>5.7</td>\n",
       "      <td>316.93</td>\n",
       "      <td>132.485</td>\n",
       "      <td>79.1396</td>\n",
       "      <td>217.0622</td>\n",
       "      <td>5.394619</td>\n",
       "      <td>30.396</td>\n",
       "      <td>33.0</td>\n",
       "      <td>141.109114</td>\n",
       "    </tr>\n",
       "    <tr>\n",
       "      <th>max</th>\n",
       "      <td>260.64532</td>\n",
       "      <td>60.22</td>\n",
       "      <td>78.4798</td>\n",
       "      <td>5.7</td>\n",
       "      <td>325.75</td>\n",
       "      <td>134.375</td>\n",
       "      <td>79.19</td>\n",
       "      <td>219.305</td>\n",
       "      <td>5.39668</td>\n",
       "      <td>30.9</td>\n",
       "      <td>33.0</td>\n",
       "      <td>141.119461</td>\n",
       "    </tr>\n",
       "  </tbody>\n",
       "</table>\n",
       "</div>"
      ],
      "text/plain": [
       "            Sales_in_thousands four_year_resale_value Price_in_thousands  \\\n",
       "dtype                  float64                float64            float64   \n",
       "cardinality                155                    116                151   \n",
       "n_tot                      157                    157                157   \n",
       "n                          157                    157                157   \n",
       "nmiss                        0                      0                  0   \n",
       "perc_miss                  0.0                    0.0                0.0   \n",
       "sum                  8025.5292            2829.141298         4290.61297   \n",
       "mean                  51.11802              18.020008          27.328745   \n",
       "std                  57.722699                9.80668          13.973525   \n",
       "var                3331.909938              96.170969         195.259402   \n",
       "lc_iqr                 -66.649                 4.1525            -2.5325   \n",
       "uc_iqr                 148.719                26.5325            52.6075   \n",
       "min                    0.93728                  6.173           10.23144   \n",
       "p1                    0.946643                6.87412          10.485434   \n",
       "p5                      1.8708                  8.425             12.491   \n",
       "p10                     5.4536                   9.71            13.9762   \n",
       "p25                     14.114                 12.545             18.145   \n",
       "p50                      29.45                  17.71               23.4   \n",
       "p75                     67.956                  18.14              31.93   \n",
       "p90                   127.6416                 27.025             43.788   \n",
       "p95                   185.3362                 39.275             55.225   \n",
       "p99                 253.560581                59.3128          76.514312   \n",
       "max                  260.64532                  60.22            78.4798   \n",
       "\n",
       "            Engine_size    Horsepower     Wheelbase         Width  \\\n",
       "dtype           float64       float64       float64       float64   \n",
       "cardinality          30            65            88            77   \n",
       "n_tot               157           157           157           157   \n",
       "n                   157           157           157           157   \n",
       "nmiss                 0             0             0             0   \n",
       "perc_miss           0.0           0.0           0.0           0.0   \n",
       "sum          478.860064  29095.622436  16867.536538  11173.619551   \n",
       "mean           3.050064    185.322436    107.436538     71.169551   \n",
       "std            0.979125     52.646914      7.400461      3.379455   \n",
       "var            0.958686   2771.697606     54.766822     11.420718   \n",
       "lc_iqr              0.5          52.5          89.2          60.9   \n",
       "uc_iqr              5.3         312.5         126.0          80.9   \n",
       "min               1.555          96.4        92.875        66.085   \n",
       "p1               1.5802        98.416        93.001       66.2614   \n",
       "p5                  1.8         114.6         95.92          66.5   \n",
       "p10                1.96         120.0          98.7          66.9   \n",
       "p25                 2.3         150.0         103.0          68.4   \n",
       "p50                 3.0         180.0         107.0          70.6   \n",
       "p75                 3.5         215.0         112.2          73.4   \n",
       "p90                 4.6         253.8        115.46         76.18   \n",
       "p95                4.76         300.0         119.2          78.2   \n",
       "p99                 5.7        316.93       132.485       79.1396   \n",
       "max                 5.7        325.75       134.375         79.19   \n",
       "\n",
       "                   Length Curb_weight Fuel_capacity Fuel_efficiency  \\\n",
       "dtype             float64     float64       float64         float64   \n",
       "cardinality           126         146            55              20   \n",
       "n_tot                 157         157           157             157   \n",
       "n                     157         157           157             157   \n",
       "nmiss                   0           0             0               0   \n",
       "perc_miss             0.0         0.0           0.0             0.0   \n",
       "sum          29411.272949  530.528485   2817.848077     3731.298701   \n",
       "mean           187.332949    3.379162     17.948077       23.766234   \n",
       "std              13.07823    0.617766      3.807591        3.956157   \n",
       "var             171.04011    0.381634     14.497753       15.651182   \n",
       "lc_iqr             149.85      1.7705         10.25            13.5   \n",
       "uc_iqr             223.85      4.9825         25.05            33.5   \n",
       "min               154.915      2.2454          11.9            15.0   \n",
       "p1               156.2506    2.247976          11.9            15.0   \n",
       "p5                  163.7       2.424          12.5            16.8   \n",
       "p10                173.12      2.6128          13.2            18.6   \n",
       "p25                 177.6       2.975          15.8            21.0   \n",
       "p50                 187.8       3.368          17.2            24.0   \n",
       "p75                 196.1       3.778          19.5            26.0   \n",
       "p90                203.34      4.1174          23.2            28.4   \n",
       "p95                 208.5      4.3884          25.4            31.0   \n",
       "p99              217.0622    5.394619        30.396            33.0   \n",
       "max               219.305     5.39668          30.9            33.0   \n",
       "\n",
       "            Power_perf_factor  \n",
       "dtype                 float64  \n",
       "cardinality               153  \n",
       "n_tot                     157  \n",
       "n                         157  \n",
       "nmiss                       0  \n",
       "perc_miss                 0.0  \n",
       "sum              12065.384534  \n",
       "mean                76.849583  \n",
       "std                 23.691622  \n",
       "var                561.292961  \n",
       "lc_iqr              17.715715  \n",
       "uc_iqr             132.413666  \n",
       "min                  38.46192  \n",
       "p1                  39.315643  \n",
       "p5                  46.257114  \n",
       "p10                 48.522793  \n",
       "p25                 60.727447  \n",
       "p50                 72.290355  \n",
       "p75                 89.401935  \n",
       "p90                 107.99432  \n",
       "p95                125.065461  \n",
       "p99                141.109114  \n",
       "max                141.119461  "
      ]
     },
     "execution_count": 13,
     "metadata": {},
     "output_type": "execute_result"
    }
   ],
   "source": [
    "cars_numeric.apply( continuous_var_summary )"
   ]
  },
  {
   "cell_type": "markdown",
   "id": "b3df0ace",
   "metadata": {},
   "source": [
    "#### handling the categorical features"
   ]
  },
  {
   "cell_type": "code",
   "execution_count": 22,
   "id": "dafc0104",
   "metadata": {},
   "outputs": [
    {
     "data": {
      "text/plain": [
       "Manufacturer      30\n",
       "Model            156\n",
       "Vehicle_type       2\n",
       "Latest_Launch    130\n",
       "dtype: int64"
      ]
     },
     "execution_count": 22,
     "metadata": {},
     "output_type": "execute_result"
    }
   ],
   "source": [
    "cars_object.nunique()"
   ]
  },
  {
   "cell_type": "markdown",
   "id": "9d6f7af8",
   "metadata": {},
   "source": [
    "** dropping the model and latest launch variables"
   ]
  },
  {
   "cell_type": "code",
   "execution_count": 29,
   "id": "69ca72a7",
   "metadata": {},
   "outputs": [],
   "source": [
    "cars_object = pd.get_dummies( cars_object.loc[:, ['Manufacturer', 'Vehicle_type']], drop_first = True )"
   ]
  },
  {
   "cell_type": "code",
   "execution_count": 30,
   "id": "590f618a",
   "metadata": {},
   "outputs": [
    {
     "data": {
      "text/plain": [
       "Index(['Manufacturer_Audi', 'Manufacturer_BMW', 'Manufacturer_Buick',\n",
       "       'Manufacturer_Cadillac', 'Manufacturer_Chevrolet',\n",
       "       'Manufacturer_Chrysler', 'Manufacturer_Dodge', 'Manufacturer_Ford',\n",
       "       'Manufacturer_Honda', 'Manufacturer_Hyundai', 'Manufacturer_Infiniti',\n",
       "       'Manufacturer_Jaguar', 'Manufacturer_Jeep', 'Manufacturer_Lexus',\n",
       "       'Manufacturer_Lincoln', 'Manufacturer_Mercedes-B',\n",
       "       'Manufacturer_Mercury', 'Manufacturer_Mitsubishi',\n",
       "       'Manufacturer_Nissan', 'Manufacturer_Oldsmobile',\n",
       "       'Manufacturer_Plymouth', 'Manufacturer_Pontiac', 'Manufacturer_Porsche',\n",
       "       'Manufacturer_Saab', 'Manufacturer_Saturn', 'Manufacturer_Subaru',\n",
       "       'Manufacturer_Toyota', 'Manufacturer_Volkswagen', 'Manufacturer_Volvo',\n",
       "       'Vehicle_type_Passenger'],\n",
       "      dtype='object')"
      ]
     },
     "execution_count": 30,
     "metadata": {},
     "output_type": "execute_result"
    }
   ],
   "source": [
    "cars_object.columns"
   ]
  },
  {
   "cell_type": "code",
   "execution_count": 31,
   "id": "bc405d22",
   "metadata": {},
   "outputs": [],
   "source": [
    "cars_object.rename( columns = {'Manufacturer_Mercedes-B':'Manufacturer_Mercedes_B'}, inplace = True)"
   ]
  },
  {
   "cell_type": "markdown",
   "id": "430081d1",
   "metadata": {},
   "source": [
    "#### combine the categorical and continuous variables"
   ]
  },
  {
   "cell_type": "markdown",
   "id": "0e619877",
   "metadata": {},
   "source": [
    "as we dont have any numeric variable as categorical. we can proceed to join object type and numeric data variables into one dataset"
   ]
  },
  {
   "cell_type": "code",
   "execution_count": 32,
   "id": "72f677f5",
   "metadata": {},
   "outputs": [],
   "source": [
    "cars_new = pd.concat( [ cars_object, cars_numeric ], axis = 1 )"
   ]
  },
  {
   "cell_type": "code",
   "execution_count": 33,
   "id": "16b3a021",
   "metadata": {},
   "outputs": [
    {
     "data": {
      "text/plain": [
       "(157, 42)"
      ]
     },
     "execution_count": 33,
     "metadata": {},
     "output_type": "execute_result"
    }
   ],
   "source": [
    "cars_new.shape"
   ]
  },
  {
   "cell_type": "markdown",
   "id": "235021f1",
   "metadata": {},
   "source": [
    "#### LR - based on many assumptions, 10 of them are critical**"
   ]
  },
  {
   "cell_type": "markdown",
   "id": "3d86f5a2",
   "metadata": {},
   "source": [
    "1. All the variables should follow the normal distribution, if not all atleast y must follow normal distribution\n",
    "\n",
    "\n",
    "2. y should be linearly related with X variables\n",
    "\n",
    "\n",
    "3. No of obs must always be more than no of X variables\n",
    "\n",
    "\n",
    "4. X variables should be independent\n",
    "\n",
    "\n",
    "\n",
    "** Other assumtions will check later\n",
    "\n",
    "Resid should follow normal distribution"
   ]
  },
  {
   "cell_type": "markdown",
   "id": "4304501c",
   "metadata": {},
   "source": [
    "##### check for y variable"
   ]
  },
  {
   "cell_type": "code",
   "execution_count": 35,
   "id": "1008b196",
   "metadata": {},
   "outputs": [
    {
     "name": "stderr",
     "output_type": "stream",
     "text": [
      "C:\\ProgramData\\Anaconda3\\lib\\site-packages\\seaborn\\distributions.py:2619: FutureWarning: `distplot` is a deprecated function and will be removed in a future version. Please adapt your code to use either `displot` (a figure-level function with similar flexibility) or `histplot` (an axes-level function for histograms).\n",
      "  warnings.warn(msg, FutureWarning)\n"
     ]
    },
    {
     "data": {
      "image/png": "[encoded data removed]",
      "text/plain": [
       "<Figure size 432x288 with 1 Axes>"
      ]
     },
     "metadata": {
      "needs_background": "light"
     },
     "output_type": "display_data"
    }
   ],
   "source": [
    "# Very first assumtion is that all the variables should be normally distributed, however that can't be possible\n",
    "# However we have to be atleast strict about the dependant Y variable\n",
    "\n",
    "# Distribution of variables\n",
    "sns.distplot(cars_new.Sales_in_thousands)\n",
    "plt.show()\n",
    "# this distribution is highly skewed\n",
    "\n",
    "# Notes:\n",
    "#-----------------------------------------------------\n",
    "# 1. if we get skewed data, then we have to transform the data and there are multiple methods to go about it\n",
    "# 2. most commonly used and which works on most of the data is log transformation\n",
    "# 3. Ideally we can do this for each of the dependant variable as well, \n",
    "#    however it will depend on amount of data and the amount of analytical rigour\n",
    "# 4. In no case we can proceed if dependant variable is not normal/near to normal distributed"
   ]
  },
  {
   "cell_type": "code",
   "execution_count": 36,
   "id": "638b8de7",
   "metadata": {},
   "outputs": [
    {
     "data": {
      "text/plain": [
       "1.9924932920508793"
      ]
     },
     "execution_count": 36,
     "metadata": {},
     "output_type": "execute_result"
    }
   ],
   "source": [
    "cars_new.Sales_in_thousands.skew()"
   ]
  },
  {
   "cell_type": "code",
   "execution_count": 37,
   "id": "94c3abd9",
   "metadata": {},
   "outputs": [
    {
     "name": "stderr",
     "output_type": "stream",
     "text": [
      "C:\\ProgramData\\Anaconda3\\lib\\site-packages\\seaborn\\distributions.py:2619: FutureWarning: `distplot` is a deprecated function and will be removed in a future version. Please adapt your code to use either `displot` (a figure-level function with similar flexibility) or `histplot` (an axes-level function for histograms).\n",
      "  warnings.warn(msg, FutureWarning)\n"
     ]
    },
    {
     "data": {
      "image/png": "[encoded data removed]",
      "text/plain": [
       "<Figure size 432x288 with 1 Axes>"
      ]
     },
     "metadata": {
      "needs_background": "light"
     },
     "output_type": "display_data"
    }
   ],
   "source": [
    "sns.distplot( np.log(cars_new.Sales_in_thousands) )\n",
    "plt.show()"
   ]
  },
  {
   "cell_type": "code",
   "execution_count": 38,
   "id": "9c4e72ff",
   "metadata": {},
   "outputs": [
    {
     "data": {
      "text/plain": [
       "-0.5925861100519006"
      ]
     },
     "execution_count": 38,
     "metadata": {},
     "output_type": "execute_result"
    }
   ],
   "source": [
    "np.log(cars_new.Sales_in_thousands).skew()"
   ]
  },
  {
   "cell_type": "code",
   "execution_count": 39,
   "id": "4439c10e",
   "metadata": {},
   "outputs": [],
   "source": [
    "cars_new.loc[:, 'ln_sales_in_thousands'] = np.log(cars_new.Sales_in_thousands)"
   ]
  },
  {
   "cell_type": "markdown",
   "id": "0bebe1e0",
   "metadata": {},
   "source": [
    "#### correl"
   ]
  },
  {
   "cell_type": "code",
   "execution_count": 43,
   "id": "010c019d",
   "metadata": {},
   "outputs": [
    {
     "data": {
      "image/png": "[encoded data removed]",
      "text/plain": [
       "<Figure size 720x432 with 2 Axes>"
      ]
     },
     "metadata": {
      "needs_background": "light"
     },
     "output_type": "display_data"
    }
   ],
   "source": [
    "plt.figure( figsize=(10, 6) )\n",
    "sns.heatmap( cars_new.corr() )\n",
    "plt.show()"
   ]
  },
  {
   "cell_type": "code",
   "execution_count": 44,
   "id": "425b3d61",
   "metadata": {},
   "outputs": [],
   "source": [
    "cars_new.corr().to_excel('corr.xlsx')"
   ]
  },
  {
   "cell_type": "markdown",
   "id": "22410f93",
   "metadata": {},
   "source": [
    "#### variable selection | feature selection"
   ]
  },
  {
   "cell_type": "markdown",
   "id": "f3618a3a",
   "metadata": {},
   "source": [
    "1. Significance\n",
    "\n",
    "2. Multi - colinearity"
   ]
  },
  {
   "cell_type": "code",
   "execution_count": 108,
   "id": "deeba1ee",
   "metadata": {},
   "outputs": [],
   "source": [
    "# get only the X variable names\n",
    "features = cars_new.columns.difference(['ln_sales_in_thousands', 'Sales_in_thousands'])"
   ]
  },
  {
   "cell_type": "code",
   "execution_count": 109,
   "id": "c9a3da69",
   "metadata": {},
   "outputs": [
    {
     "data": {
      "text/plain": [
       "Index(['Curb_weight', 'Engine_size', 'Fuel_capacity', 'Fuel_efficiency',\n",
       "       'Horsepower', 'Length', 'Manufacturer_Audi', 'Manufacturer_BMW',\n",
       "       'Manufacturer_Buick', 'Manufacturer_Cadillac', 'Manufacturer_Chevrolet',\n",
       "       'Manufacturer_Chrysler', 'Manufacturer_Dodge', 'Manufacturer_Ford',\n",
       "       'Manufacturer_Honda', 'Manufacturer_Hyundai', 'Manufacturer_Infiniti',\n",
       "       'Manufacturer_Jaguar', 'Manufacturer_Jeep', 'Manufacturer_Lexus',\n",
       "       'Manufacturer_Lincoln', 'Manufacturer_Mercedes_B',\n",
       "       'Manufacturer_Mercury', 'Manufacturer_Mitsubishi',\n",
       "       'Manufacturer_Nissan', 'Manufacturer_Oldsmobile',\n",
       "       'Manufacturer_Plymouth', 'Manufacturer_Pontiac', 'Manufacturer_Porsche',\n",
       "       'Manufacturer_Saab', 'Manufacturer_Saturn', 'Manufacturer_Subaru',\n",
       "       'Manufacturer_Toyota', 'Manufacturer_Volkswagen', 'Manufacturer_Volvo',\n",
       "       'Power_perf_factor', 'Price_in_thousands', 'Vehicle_type_Passenger',\n",
       "       'Wheelbase', 'Width', 'four_year_resale_value'],\n",
       "      dtype='object')"
      ]
     },
     "execution_count": 109,
     "metadata": {},
     "output_type": "execute_result"
    }
   ],
   "source": [
    "features"
   ]
  },
  {
   "cell_type": "code",
   "execution_count": 110,
   "id": "81fedfc4",
   "metadata": {},
   "outputs": [],
   "source": [
    "# get the significant variables : bi-variate regression\n",
    "from sklearn.feature_selection import f_regression"
   ]
  },
  {
   "cell_type": "code",
   "execution_count": 111,
   "id": "8f9355f6",
   "metadata": {},
   "outputs": [],
   "source": [
    "# bivariate regression\n",
    "f_score, p_value = f_regression( cars_new[features], cars_new.ln_sales_in_thousands )"
   ]
  },
  {
   "cell_type": "code",
   "execution_count": 112,
   "id": "b0cdc325",
   "metadata": {},
   "outputs": [],
   "source": [
    "# combine the outputs in the dataframe\n",
    "significant_variables = pd.DataFrame([features, f_score, p_value]).T\n",
    "significant_variables.columns = [ 'features', 'f_score', 'p_value' ]\n",
    "features = list( significant_variables.loc[ significant_variables.p_value <= 0.1, 'features' ] )"
   ]
  },
  {
   "cell_type": "code",
   "execution_count": 113,
   "id": "9d8f83dc",
   "metadata": {},
   "outputs": [
    {
     "data": {
      "text/plain": [
       "['Fuel_efficiency',\n",
       " 'Horsepower',\n",
       " 'Length',\n",
       " 'Manufacturer_Audi',\n",
       " 'Manufacturer_Ford',\n",
       " 'Manufacturer_Honda',\n",
       " 'Manufacturer_Mercedes_B',\n",
       " 'Manufacturer_Plymouth',\n",
       " 'Manufacturer_Porsche',\n",
       " 'Manufacturer_Toyota',\n",
       " 'Manufacturer_Volvo',\n",
       " 'Power_perf_factor',\n",
       " 'Price_in_thousands',\n",
       " 'Vehicle_type_Passenger',\n",
       " 'Wheelbase',\n",
       " 'four_year_resale_value']"
      ]
     },
     "execution_count": 113,
     "metadata": {},
     "output_type": "execute_result"
    }
   ],
   "source": [
    "features"
   ]
  },
  {
   "cell_type": "markdown",
   "id": "9884219a",
   "metadata": {},
   "source": [
    "##### multi-colinearity"
   ]
  },
  {
   "cell_type": "code",
   "execution_count": 114,
   "id": "c5ca043f",
   "metadata": {},
   "outputs": [],
   "source": [
    "# import the packages for vif\n",
    "from statsmodels.stats.outliers_influence import variance_inflation_factor\n",
    "from patsy import dmatrices"
   ]
  },
  {
   "cell_type": "code",
   "execution_count": 115,
   "id": "0ecc2d5b",
   "metadata": {},
   "outputs": [
    {
     "data": {
      "text/plain": [
       "'ln_sales_in_thousands ~ Fuel_efficiency + Horsepower + Length + Manufacturer_Audi + Manufacturer_Ford + Manufacturer_Honda + Manufacturer_Mercedes_B + Manufacturer_Plymouth + Manufacturer_Porsche + Manufacturer_Toyota + Manufacturer_Volvo + Power_perf_factor + Price_in_thousands + Vehicle_type_Passenger + Wheelbase + four_year_resale_value'"
      ]
     },
     "execution_count": 115,
     "metadata": {},
     "output_type": "execute_result"
    }
   ],
   "source": [
    "model_param = 'ln_sales_in_thousands ~ ' + ' + '.join(features)\n",
    "model_param"
   ]
  },
  {
   "cell_type": "code",
   "execution_count": 135,
   "id": "21369339",
   "metadata": {},
   "outputs": [],
   "source": [
    "model_param = '''ln_sales_in_thousands ~ Fuel_efficiency + \n",
    "        Manufacturer_Audi + Manufacturer_Ford + Manufacturer_Honda + Manufacturer_Mercedes_B + \n",
    "        Manufacturer_Plymouth + Manufacturer_Porsche + Manufacturer_Toyota + Manufacturer_Volvo + \n",
    "        Price_in_thousands + Vehicle_type_Passenger + Wheelbase'''"
   ]
  },
  {
   "cell_type": "code",
   "execution_count": 136,
   "id": "be7fc879",
   "metadata": {},
   "outputs": [],
   "source": [
    "# separate the Y and X variables\n",
    "y, X = dmatrices( model_param, cars_new, return_type = 'dataframe' )\n",
    "\n",
    "# For each X, calculate VIF and save in dataframe\n",
    "vif = pd.DataFrame()\n",
    "\n",
    "vif['Features'] = X.columns\n",
    "vif['VIF Factor'] = [ variance_inflation_factor(X.values, i) for i in range( X.shape[1] ) ]"
   ]
  },
  {
   "cell_type": "code",
   "execution_count": 140,
   "id": "8b40c796",
   "metadata": {},
   "outputs": [],
   "source": [
    "features = list( vif.loc[ 1:, 'Features'] )"
   ]
  },
  {
   "cell_type": "markdown",
   "id": "922356bb",
   "metadata": {},
   "source": [
    "#### Modelling steps - train test split"
   ]
  },
  {
   "cell_type": "code",
   "execution_count": 73,
   "id": "4a7dcfa3",
   "metadata": {},
   "outputs": [],
   "source": [
    "# get only the X variable names\n",
    "features = cars_new.columns.difference(['ln_sales_in_thousands', 'Sales_in_thousands'])"
   ]
  },
  {
   "cell_type": "code",
   "execution_count": 76,
   "id": "f7c603f5",
   "metadata": {},
   "outputs": [],
   "source": [
    "# Method 1 - required for methods from statsmodels\n",
    "train, test = train_test_split( cars_new, test_size = 0.3, random_state = 1 )\n",
    "\n",
    "# Method 2 - required for methods from sklearn\n",
    "X_train, X_test, y_train, y_test = train_test_split( cars_new[features], \n",
    "                            cars_new.ln_sales_in_thousands, test_size = 0.3, random_state = 1 )"
   ]
  },
  {
   "cell_type": "markdown",
   "id": "4ad6a87d",
   "metadata": {},
   "source": [
    "##### Steps for model building:\n",
    "------------------------------------------------------------------\n",
    "Step 1: lm = smf.ols('y~x1+x2+x3...xn', data = train) # defining Y and X with classs\n",
    "\n",
    "Step 2: lm.fit()     # building model (estimating the betas)\n",
    "\n",
    "Step 3: lm.summary() # get the output summary of the model\n",
    "\n",
    "Step 4: lm.predict(train) # predict the sales on the training data\n",
    "\n",
    "Step 5: lm.predict(test) # predict the sales on the testing/validation data\n",
    "\n",
    "Step 6: test the accuracy of the model\n",
    "    a.  MAPE: Mean Absolute Percentage Error\n",
    "    b.  RMSE: Root Mean Square Error\n",
    "    c.  Corelation between actual and predicted\n",
    "    d.  Decile analysis: for validation of models - Business validation\n",
    "    \n",
    "    \n",
    "R square:\n",
    "1 - SSE(best fit) / SSE(no slope)\n",
    "\n",
    "Adjusted R square:\n",
    "1 - [(1 - R2)(n - 1) / (n - k - 1)]\n",
    "\n"
   ]
  },
  {
   "cell_type": "markdown",
   "id": "065e4e5d",
   "metadata": {},
   "source": [
    "#### Model 0 "
   ]
  },
  {
   "cell_type": "code",
   "execution_count": 82,
   "id": "72e5953e",
   "metadata": {},
   "outputs": [],
   "source": [
    "# create a formula\n",
    "formula_m0 = 'ln_sales_in_thousands ~ ' + ' + '.join( features )"
   ]
  },
  {
   "cell_type": "code",
   "execution_count": 84,
   "id": "798aa831",
   "metadata": {},
   "outputs": [],
   "source": [
    "# define a model equation\n",
    "lm0 = smf.ols( formula = formula_m0, data = train )"
   ]
  },
  {
   "cell_type": "code",
   "execution_count": 85,
   "id": "69137666",
   "metadata": {},
   "outputs": [],
   "source": [
    "# fit the model or execute the model\n",
    "lm0 = lm0.fit()"
   ]
  },
  {
   "cell_type": "code",
   "execution_count": 87,
   "id": "0698da81",
   "metadata": {
    "scrolled": true
   },
   "outputs": [
    {
     "name": "stdout",
     "output_type": "stream",
     "text": [
      "                              OLS Regression Results                             \n",
      "=================================================================================\n",
      "Dep. Variable:     ln_sales_in_thousands   R-squared:                       0.700\n",
      "Model:                               OLS   Adj. R-squared:                  0.523\n",
      "Method:                    Least Squares   F-statistic:                     3.962\n",
      "Date:                   Sat, 20 Aug 2022   Prob (F-statistic):           3.00e-07\n",
      "Time:                           11:39:10   Log-Likelihood:                -112.66\n",
      "No. Observations:                    109   AIC:                             307.3\n",
      "Df Residuals:                         68   BIC:                             417.7\n",
      "Df Model:                             40                                         \n",
      "Covariance Type:               nonrobust                                         \n",
      "===========================================================================================\n",
      "                              coef    std err          t      P>|t|      [0.025      0.975]\n",
      "-------------------------------------------------------------------------------------------\n",
      "Intercept                 -11.3551      4.513     -2.516      0.014     -20.360      -2.350\n",
      "Curb_weight                 0.6756      0.512      1.319      0.192      -0.347       1.698\n",
      "Engine_size                 0.4917      0.388      1.267      0.209      -0.283       1.266\n",
      "Fuel_capacity              -0.1103      0.068     -1.632      0.107      -0.245       0.025\n",
      "Fuel_efficiency             0.1668      0.068      2.467      0.016       0.032       0.302\n",
      "Horsepower                 -0.0205      0.023     -0.885      0.379      -0.067       0.026\n",
      "Length                     -0.0164      0.025     -0.667      0.507      -0.065       0.033\n",
      "Manufacturer_Audi          -0.0864      0.847     -0.102      0.919      -1.776       1.603\n",
      "Manufacturer_BMW           -0.1732      0.730     -0.237      0.813      -1.629       1.283\n",
      "Manufacturer_Buick          0.4484      0.724      0.620      0.538      -0.996       1.892\n",
      "Manufacturer_Cadillac       0.1434      0.893      0.161      0.873      -1.638       1.924\n",
      "Manufacturer_Chevrolet      0.0924      0.705      0.131      0.896      -1.314       1.499\n",
      "Manufacturer_Chrysler      -0.3188      0.783     -0.407      0.685      -1.880       1.243\n",
      "Manufacturer_Dodge          0.5133      0.698      0.735      0.465      -0.880       1.906\n",
      "Manufacturer_Ford           1.3665      0.673      2.032      0.046       0.024       2.709\n",
      "Manufacturer_Honda          0.2371      0.741      0.320      0.750      -1.241       1.715\n",
      "Manufacturer_Hyundai        0.5577      0.764      0.730      0.468      -0.966       2.081\n",
      "Manufacturer_Infiniti       0.5061      1.020      0.496      0.621      -1.530       2.542\n",
      "Manufacturer_Jaguar     -4.668e-16    6.5e-16     -0.718      0.475   -1.76e-15    8.31e-16\n",
      "Manufacturer_Jeep           2.1711      1.011      2.147      0.035       0.153       4.189\n",
      "Manufacturer_Lexus          0.4322      0.695      0.622      0.536      -0.954       1.818\n",
      "Manufacturer_Lincoln        0.4295      0.919      0.468      0.642      -1.404       2.263\n",
      "Manufacturer_Mercedes_B     0.4530      0.712      0.636      0.527      -0.968       1.874\n",
      "Manufacturer_Mercury       -0.4352      0.718     -0.606      0.546      -1.868       0.998\n",
      "Manufacturer_Mitsubishi     0.2516      0.665      0.378      0.707      -1.076       1.579\n",
      "Manufacturer_Nissan         1.1558      0.672      1.721      0.090      -0.185       2.496\n",
      "Manufacturer_Oldsmobile    -0.9681      0.711     -1.362      0.178      -2.386       0.450\n",
      "Manufacturer_Plymouth      -1.2482      0.843     -1.481      0.143      -2.930       0.434\n",
      "Manufacturer_Pontiac        0.6402      0.741      0.864      0.390      -0.838       2.118\n",
      "Manufacturer_Porsche        1.9238      1.361      1.413      0.162      -0.793       4.640\n",
      "Manufacturer_Saab           0.9369      1.080      0.867      0.389      -1.219       3.093\n",
      "Manufacturer_Saturn        -0.7187      0.730     -0.985      0.328      -2.175       0.738\n",
      "Manufacturer_Subaru         0.8537      0.845      1.011      0.316      -0.832       2.539\n",
      "Manufacturer_Toyota         0.9443      0.678      1.393      0.168      -0.409       2.297\n",
      "Manufacturer_Volkswagen     0.1349      0.790      0.171      0.865      -1.441       1.710\n",
      "Manufacturer_Volvo          0.2735      0.697      0.392      0.696      -1.117       1.664\n",
      "Power_perf_factor           0.0503      0.065      0.780      0.438      -0.078       0.179\n",
      "Price_in_thousands         -0.0884      0.038     -2.343      0.022      -0.164      -0.013\n",
      "Vehicle_type_Passenger     -0.4253      0.489     -0.870      0.387      -1.401       0.550\n",
      "Wheelbase                   0.1047      0.041      2.568      0.012       0.023       0.186\n",
      "Width                       0.0371      0.067      0.551      0.584      -0.097       0.171\n",
      "four_year_resale_value      0.0209      0.024      0.886      0.379      -0.026       0.068\n",
      "==============================================================================\n",
      "Omnibus:                        5.909   Durbin-Watson:                   2.105\n",
      "Prob(Omnibus):                  0.052   Jarque-Bera (JB):                6.562\n",
      "Skew:                          -0.321   Prob(JB):                       0.0376\n",
      "Kurtosis:                       4.016   Cond. No.                     1.01e+16\n",
      "==============================================================================\n",
      "\n",
      "Notes:\n",
      "[1] Standard Errors assume that the covariance matrix of the errors is correctly specified.\n",
      "[2] The smallest eigenvalue is 9.82e-26. This might indicate that there are\n",
      "strong multicollinearity problems or that the design matrix is singular.\n"
     ]
    }
   ],
   "source": [
    "# model summary for stablity\n",
    "print( lm0.summary() )"
   ]
  },
  {
   "cell_type": "markdown",
   "id": "5749f844",
   "metadata": {},
   "source": [
    "#### Model 1"
   ]
  },
  {
   "cell_type": "code",
   "execution_count": 88,
   "id": "7b9bd045",
   "metadata": {},
   "outputs": [],
   "source": [
    "# define the formula\n",
    "formula_m1 = '''ln_sales_in_thousands ~ Price_in_thousands + Manufacturer_Ford + Length + \n",
    "Fuel_efficiency + Vehicle_type_Passenger'''"
   ]
  },
  {
   "cell_type": "code",
   "execution_count": 90,
   "id": "5f4d3ec8",
   "metadata": {},
   "outputs": [],
   "source": [
    "# define and fit the model\n",
    "lm1 = smf.ols( formula = formula_m1, data = train ).fit()"
   ]
  },
  {
   "cell_type": "code",
   "execution_count": 91,
   "id": "71c7a69f",
   "metadata": {
    "scrolled": true
   },
   "outputs": [
    {
     "name": "stdout",
     "output_type": "stream",
     "text": [
      "                              OLS Regression Results                             \n",
      "=================================================================================\n",
      "Dep. Variable:     ln_sales_in_thousands   R-squared:                       0.493\n",
      "Model:                               OLS   Adj. R-squared:                  0.469\n",
      "Method:                    Least Squares   F-statistic:                     20.06\n",
      "Date:                   Sat, 20 Aug 2022   Prob (F-statistic):           6.39e-14\n",
      "Time:                           12:06:37   Log-Likelihood:                -141.17\n",
      "No. Observations:                    109   AIC:                             294.3\n",
      "Df Residuals:                        103   BIC:                             310.5\n",
      "Df Model:                              5                                         \n",
      "Covariance Type:               nonrobust                                         \n",
      "==========================================================================================\n",
      "                             coef    std err          t      P>|t|      [0.025      0.975]\n",
      "------------------------------------------------------------------------------------------\n",
      "Intercept                 -2.0497      2.028     -1.011      0.315      -6.072       1.973\n",
      "Price_in_thousands        -0.0422      0.009     -4.656      0.000      -0.060      -0.024\n",
      "Manufacturer_Ford          1.2192      0.360      3.383      0.001       0.504       1.934\n",
      "Length                     0.0277      0.008      3.573      0.001       0.012       0.043\n",
      "Fuel_efficiency            0.0767      0.040      1.908      0.059      -0.003       0.156\n",
      "Vehicle_type_Passenger    -0.8653      0.309     -2.804      0.006      -1.477      -0.253\n",
      "==============================================================================\n",
      "Omnibus:                       16.109   Durbin-Watson:                   2.205\n",
      "Prob(Omnibus):                  0.000   Jarque-Bera (JB):               21.094\n",
      "Skew:                          -0.767   Prob(JB):                     2.63e-05\n",
      "Kurtosis:                       4.514   Cond. No.                     4.43e+03\n",
      "==============================================================================\n",
      "\n",
      "Notes:\n",
      "[1] Standard Errors assume that the covariance matrix of the errors is correctly specified.\n",
      "[2] The condition number is large, 4.43e+03. This might indicate that there are\n",
      "strong multicollinearity or other numerical problems.\n"
     ]
    }
   ],
   "source": [
    "# summary of the model\n",
    "print(lm1.summary())"
   ]
  },
  {
   "cell_type": "markdown",
   "id": "c475ec36",
   "metadata": {},
   "source": [
    "#### Model 2"
   ]
  },
  {
   "cell_type": "code",
   "execution_count": 143,
   "id": "d018e56d",
   "metadata": {},
   "outputs": [
    {
     "data": {
      "text/plain": [
       "['Fuel_efficiency',\n",
       " 'Manufacturer_Audi',\n",
       " 'Manufacturer_Ford',\n",
       " 'Manufacturer_Honda',\n",
       " 'Manufacturer_Mercedes_B',\n",
       " 'Manufacturer_Plymouth',\n",
       " 'Manufacturer_Porsche',\n",
       " 'Manufacturer_Toyota',\n",
       " 'Manufacturer_Volvo',\n",
       " 'Price_in_thousands',\n",
       " 'Vehicle_type_Passenger',\n",
       " 'Wheelbase']"
      ]
     },
     "execution_count": 143,
     "metadata": {},
     "output_type": "execute_result"
    }
   ],
   "source": [
    "# after the variable selection\n",
    "features"
   ]
  },
  {
   "cell_type": "code",
   "execution_count": 146,
   "id": "4d1cf2a5",
   "metadata": {},
   "outputs": [],
   "source": [
    "# define the formula\n",
    "formula_m2 = 'ln_sales_in_thousands ~ ' + ' + '.join(features)"
   ]
  },
  {
   "cell_type": "code",
   "execution_count": 147,
   "id": "de477144",
   "metadata": {},
   "outputs": [],
   "source": [
    "# define and fit the model\n",
    "lm2 = smf.ols( formula = formula_m2, data = train ).fit()"
   ]
  },
  {
   "cell_type": "code",
   "execution_count": 148,
   "id": "e0580531",
   "metadata": {
    "scrolled": true
   },
   "outputs": [
    {
     "name": "stdout",
     "output_type": "stream",
     "text": [
      "                              OLS Regression Results                             \n",
      "=================================================================================\n",
      "Dep. Variable:     ln_sales_in_thousands   R-squared:                       0.549\n",
      "Model:                               OLS   Adj. R-squared:                  0.492\n",
      "Method:                    Least Squares   F-statistic:                     9.725\n",
      "Date:                   Sat, 20 Aug 2022   Prob (F-statistic):           4.05e-12\n",
      "Time:                           12:44:03   Log-Likelihood:                -134.87\n",
      "No. Observations:                    109   AIC:                             295.7\n",
      "Df Residuals:                         96   BIC:                             330.7\n",
      "Df Model:                             12                                         \n",
      "Covariance Type:               nonrobust                                         \n",
      "===========================================================================================\n",
      "                              coef    std err          t      P>|t|      [0.025      0.975]\n",
      "-------------------------------------------------------------------------------------------\n",
      "Intercept                  -3.2382      2.133     -1.518      0.132      -7.471       0.995\n",
      "Fuel_efficiency             0.0555      0.043      1.290      0.200      -0.030       0.141\n",
      "Manufacturer_Audi          -0.7929      0.662     -1.197      0.234      -2.108       0.522\n",
      "Manufacturer_Ford           1.2057      0.356      3.388      0.001       0.499       1.912\n",
      "Manufacturer_Honda          0.2842      0.547      0.520      0.605      -0.802       1.370\n",
      "Manufacturer_Mercedes_B    -0.0184      0.494     -0.037      0.970      -1.000       0.963\n",
      "Manufacturer_Plymouth      -1.2263      0.535     -2.290      0.024      -2.289      -0.163\n",
      "Manufacturer_Porsche        0.5662      1.070      0.529      0.598      -1.559       2.691\n",
      "Manufacturer_Toyota         0.5882      0.409      1.439      0.153      -0.223       1.400\n",
      "Manufacturer_Volvo         -0.5739      0.419     -1.370      0.174      -1.406       0.258\n",
      "Price_in_thousands         -0.0446      0.012     -3.823      0.000      -0.068      -0.021\n",
      "Vehicle_type_Passenger     -0.3666      0.335     -1.094      0.277      -1.032       0.299\n",
      "Wheelbase                   0.0617      0.016      3.911      0.000       0.030       0.093\n",
      "==============================================================================\n",
      "Omnibus:                       19.868   Durbin-Watson:                   2.189\n",
      "Prob(Omnibus):                  0.000   Jarque-Bera (JB):               28.484\n",
      "Skew:                          -0.880   Prob(JB):                     6.53e-07\n",
      "Kurtosis:                       4.782   Cond. No.                     2.82e+03\n",
      "==============================================================================\n",
      "\n",
      "Notes:\n",
      "[1] Standard Errors assume that the covariance matrix of the errors is correctly specified.\n",
      "[2] The condition number is large, 2.82e+03. This might indicate that there are\n",
      "strong multicollinearity or other numerical problems.\n"
     ]
    }
   ],
   "source": [
    "# summary of the model\n",
    "print(lm2.summary())"
   ]
  },
  {
   "cell_type": "markdown",
   "id": "4e4aeed3",
   "metadata": {},
   "source": [
    "#### Model 3"
   ]
  },
  {
   "cell_type": "code",
   "execution_count": 149,
   "id": "ceaafc4a",
   "metadata": {},
   "outputs": [
    {
     "data": {
      "text/plain": [
       "'ln_sales_in_thousands ~ Fuel_efficiency + Manufacturer_Audi + Manufacturer_Ford + Manufacturer_Honda + Manufacturer_Mercedes_B + Manufacturer_Plymouth + Manufacturer_Porsche + Manufacturer_Toyota + Manufacturer_Volvo + Price_in_thousands + Vehicle_type_Passenger + Wheelbase'"
      ]
     },
     "execution_count": 149,
     "metadata": {},
     "output_type": "execute_result"
    }
   ],
   "source": [
    "formula_m2"
   ]
  },
  {
   "cell_type": "code",
   "execution_count": 185,
   "id": "fee4c761",
   "metadata": {},
   "outputs": [],
   "source": [
    "# define the formula\n",
    "formula_m3 = '''ln_sales_in_thousands ~ Fuel_efficiency + \n",
    "        Manufacturer_Ford  + \n",
    "        Price_in_thousands + Vehicle_type_Passenger + \n",
    "        Length'''"
   ]
  },
  {
   "cell_type": "code",
   "execution_count": 186,
   "id": "c8add3cc",
   "metadata": {},
   "outputs": [],
   "source": [
    "# define and fit the model\n",
    "lm3 = smf.ols( formula = formula_m3, data = train ).fit()"
   ]
  },
  {
   "cell_type": "code",
   "execution_count": 187,
   "id": "5efef5b4",
   "metadata": {},
   "outputs": [
    {
     "name": "stdout",
     "output_type": "stream",
     "text": [
      "                              OLS Regression Results                             \n",
      "=================================================================================\n",
      "Dep. Variable:     ln_sales_in_thousands   R-squared:                       0.493\n",
      "Model:                               OLS   Adj. R-squared:                  0.469\n",
      "Method:                    Least Squares   F-statistic:                     20.06\n",
      "Date:                   Sat, 20 Aug 2022   Prob (F-statistic):           6.39e-14\n",
      "Time:                           12:52:17   Log-Likelihood:                -141.17\n",
      "No. Observations:                    109   AIC:                             294.3\n",
      "Df Residuals:                        103   BIC:                             310.5\n",
      "Df Model:                              5                                         \n",
      "Covariance Type:               nonrobust                                         \n",
      "==========================================================================================\n",
      "                             coef    std err          t      P>|t|      [0.025      0.975]\n",
      "------------------------------------------------------------------------------------------\n",
      "Intercept                 -2.0497      2.028     -1.011      0.315      -6.072       1.973\n",
      "Fuel_efficiency            0.0767      0.040      1.908      0.059      -0.003       0.156\n",
      "Manufacturer_Ford          1.2192      0.360      3.383      0.001       0.504       1.934\n",
      "Price_in_thousands        -0.0422      0.009     -4.656      0.000      -0.060      -0.024\n",
      "Vehicle_type_Passenger    -0.8653      0.309     -2.804      0.006      -1.477      -0.253\n",
      "Length                     0.0277      0.008      3.573      0.001       0.012       0.043\n",
      "==============================================================================\n",
      "Omnibus:                       16.109   Durbin-Watson:                   2.205\n",
      "Prob(Omnibus):                  0.000   Jarque-Bera (JB):               21.094\n",
      "Skew:                          -0.767   Prob(JB):                     2.63e-05\n",
      "Kurtosis:                       4.514   Cond. No.                     4.43e+03\n",
      "==============================================================================\n",
      "\n",
      "Notes:\n",
      "[1] Standard Errors assume that the covariance matrix of the errors is correctly specified.\n",
      "[2] The condition number is large, 4.43e+03. This might indicate that there are\n",
      "strong multicollinearity or other numerical problems.\n"
     ]
    }
   ],
   "source": [
    "# summary of the model\n",
    "print(lm3.summary())"
   ]
  },
  {
   "cell_type": "markdown",
   "id": "5c3bb8a5",
   "metadata": {},
   "source": [
    "#### predict the output"
   ]
  },
  {
   "cell_type": "code",
   "execution_count": 194,
   "id": "18e40ff4",
   "metadata": {},
   "outputs": [],
   "source": [
    "# predict the output on train\n",
    "train['y_predict'] = np.exp( lm3.predict( train ) )\n",
    "\n",
    "# predict the output on test\n",
    "test['y_predict'] = np.exp( lm3.predict( test ) )"
   ]
  },
  {
   "cell_type": "markdown",
   "id": "c507a972",
   "metadata": {},
   "source": [
    "#### evaluate the model for accuracy"
   ]
  },
  {
   "cell_type": "code",
   "execution_count": 199,
   "id": "8551d780",
   "metadata": {},
   "outputs": [
    {
     "name": "stdout",
     "output_type": "stream",
     "text": [
      "MSE Train:  2315.3520045151704  | MSE test:  2397.4319234981995\n",
      "RMSE Train:  48.11810474774719  | RMSE test:  48.963577519399045\n",
      "MAE Train:  28.429626942208685  | MAE test:  29.524999654657808\n",
      "MAPE Train:  1.1318078564611471  | MAPE test:  0.7221050338921932\n"
     ]
    }
   ],
   "source": [
    "# get the mse\n",
    "train_MSE = mean_squared_error( train.Sales_in_thousands, train.y_predict )\n",
    "test_MSE = mean_squared_error( test.Sales_in_thousands, test.y_predict )\n",
    "\n",
    "# get the rmse\n",
    "train_RMSE = np.sqrt( train_MSE )\n",
    "test_RMSE = np.sqrt( test_MSE )\n",
    "\n",
    "# get the mae\n",
    "train_MAE = mean_absolute_error( train.Sales_in_thousands, train.y_predict )\n",
    "test_MAE = mean_absolute_error( test.Sales_in_thousands, test.y_predict )\n",
    "\n",
    "# get the mape\n",
    "train_MAPE = mean_absolute_percentage_error( train.Sales_in_thousands, train.y_predict )\n",
    "test_MAPE = mean_absolute_percentage_error( test.Sales_in_thousands, test.y_predict )\n",
    "\n",
    "# print the output\n",
    "print( 'MSE Train: ', train_MSE, ' | MSE test: ', test_MSE )\n",
    "print( 'RMSE Train: ', train_RMSE, ' | RMSE test: ', test_RMSE )\n",
    "print( 'MAE Train: ', train_MAE, ' | MAE test: ', test_MAE )\n",
    "print( 'MAPE Train: ', train_MAPE, ' | MAPE test: ', test_MAPE )"
   ]
  },
  {
   "cell_type": "markdown",
   "id": "0e723f3b",
   "metadata": {},
   "source": [
    "#### corel"
   ]
  },
  {
   "cell_type": "code",
   "execution_count": 201,
   "id": "840565c4",
   "metadata": {},
   "outputs": [
    {
     "name": "stderr",
     "output_type": "stream",
     "text": [
      "C:\\ProgramData\\Anaconda3\\lib\\site-packages\\seaborn\\_decorators.py:36: FutureWarning: Pass the following variables as keyword args: x, y. From version 0.12, the only valid positional argument will be `data`, and passing other arguments without an explicit keyword will result in an error or misinterpretation.\n",
      "  warnings.warn(\n"
     ]
    },
    {
     "data": {
      "text/plain": [
       "<AxesSubplot:xlabel='Sales_in_thousands', ylabel='y_predict'>"
      ]
     },
     "execution_count": 201,
     "metadata": {},
     "output_type": "execute_result"
    },
    {
     "data": {
      "image/png": "[encoded data removed]",
      "text/plain": [
       "<Figure size 432x288 with 1 Axes>"
      ]
     },
     "metadata": {
      "needs_background": "light"
     },
     "output_type": "display_data"
    }
   ],
   "source": [
    "sns.scatterplot( train.Sales_in_thousands, train.y_predict )"
   ]
  },
  {
   "cell_type": "code",
   "execution_count": null,
   "id": "2099a5d3",
   "metadata": {},
   "outputs": [],
   "source": []
  }
 ],
 "metadata": {
  "kernelspec": {
   "display_name": "Python 3 (ipykernel)",
   "language": "python",
   "name": "python3"
  },
  "language_info": {
   "codemirror_mode": {
    "name": "ipython",
    "version": 3
   },
   "file_extension": ".py",
   "mimetype": "text/x-python",
   "name": "python",
   "nbconvert_exporter": "python",
   "pygments_lexer": "ipython3",
   "version": "3.9.12"
  }
 },
 "nbformat": 4,
 "nbformat_minor": 5
}
